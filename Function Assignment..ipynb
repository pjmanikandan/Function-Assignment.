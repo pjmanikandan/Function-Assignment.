{
 "cells": [
  {
   "cell_type": "code",
   "execution_count": 1,
   "id": "4ae46c4d",
   "metadata": {},
   "outputs": [],
   "source": [
    "def Subfields():\n",
    "    print(\"Sub-fields in AI are:\")\n",
    "    print(\"Machine Learning\")\n",
    "    print(\"Neural Networks\")\n",
    "    print(\"Vision\")\n",
    "    print(\"Robotics\")\n",
    "    print(\"Speech Processing\")\n",
    "    print(\"Natural Language Processing\")"
   ]
  },
  {
   "cell_type": "code",
   "execution_count": 2,
   "id": "35b9652e",
   "metadata": {},
   "outputs": [
    {
     "name": "stdout",
     "output_type": "stream",
     "text": [
      "Sub-fields in AI are:\n",
      "Machine Learning\n",
      "Neural Networks\n",
      "Vision\n",
      "Robotics\n",
      "Speech Processing\n",
      "Natural Language Processing\n"
     ]
    }
   ],
   "source": [
    "Subfields()"
   ]
  },
  {
   "cell_type": "code",
   "execution_count": 3,
   "id": "f30eb873",
   "metadata": {},
   "outputs": [
    {
     "name": "stdout",
     "output_type": "stream",
     "text": [
      "Enter a number:4\n",
      "4 is Even number\n"
     ]
    }
   ],
   "source": [
    "num=int(input(\"Enter a number:\"))\n",
    "def OddEven():\n",
    "    if num%2==0:\n",
    "        print(num ,\"is Even number\")\n",
    "        \n",
    "    else:\n",
    "        print(num ,\"is Odd number\")\n",
    "        \n",
    "    \n",
    "OddEven()"
   ]
  },
  {
   "cell_type": "code",
   "execution_count": 11,
   "id": "341b8d58",
   "metadata": {},
   "outputs": [
    {
     "name": "stdout",
     "output_type": "stream",
     "text": [
      "Your Gender:Male\n",
      "your Age:18\n",
      "NOT ELIGIBLE\n"
     ]
    }
   ],
   "source": [
    "gender=(input(\"Your Gender:\"))\n",
    "age=int(input(\"your Age:\"))\n",
    "\n",
    "def Elegible():\n",
    "    if age<19:\n",
    "        print(\"NOT ELIGIBLE\")\n",
    "    else:\n",
    "        print(\"ELIGIBLE\")\n",
    "        \n",
    "Elegible()"
   ]
  },
  {
   "cell_type": "code",
   "execution_count": 31,
   "id": "b1c7b53b",
   "metadata": {},
   "outputs": [
    {
     "name": "stdout",
     "output_type": "stream",
     "text": [
      "Subjec1:23\n",
      "Subjec2:45\n",
      "Subjec3:34\n",
      "Subjec4:23\n",
      "Subjec5:23\n",
      "Total: 148\n",
      "Percentage: 29.599999999999998\n"
     ]
    }
   ],
   "source": [
    "A=int(input(\"Subjec1:\"))\n",
    "B=int(input(\"Subjec2:\"))\n",
    "C=int(input(\"Subjec3:\"))\n",
    "D=int(input(\"Subjec4:\"))\n",
    "E=int(input(\"Subjec5:\"))\n",
    "num=A+B+C+D+E\n",
    "print(\"Total:\",num)\n",
    "\n",
    "\n",
    "def percentage ():\n",
    "    X=(num/500)*100\n",
    "    print(\"Percentage:\",X)\n",
    "    \n",
    "\n",
    "percentage()"
   ]
  },
  {
   "cell_type": "code",
   "execution_count": 51,
   "id": "76780da6",
   "metadata": {},
   "outputs": [
    {
     "name": "stdout",
     "output_type": "stream",
     "text": [
      "Height:3\n",
      "Breadth:4\n",
      "Area formula: (Height*Breadth)/2\n",
      "Area of Triangle: 6.0\n",
      "Height1:3\n",
      "Height2:4\n",
      "Breadth:45\n",
      "Perimeter formula: Height1+Height2+Breadth\n",
      "Perimeter of Triangle: 52\n"
     ]
    }
   ],
   "source": [
    "A=int(input(\"Height:\"))\n",
    "B=int(input(\"Breadth:\"))\n",
    "print(\"Area formula: (Height*Breadth)/2\")\n",
    "c=(A*B)\n",
    "\n",
    "def triangle ():\n",
    "    area=c/2\n",
    "    print(\"Area of Triangle:\",area)\n",
    "\n",
    "triangle ()\n",
    "\n",
    "A=int(input(\"Height1:\"))\n",
    "B=int(input(\"Height2:\"))\n",
    "c=int(input(\"Breadth:\"))\n",
    "print(\"Perimeter formula: Height1+Height2+Breadth\")\n",
    "d=A+B\n",
    "\n",
    "def triangle():\n",
    "    tri=d+c\n",
    "    print(\"Perimeter of Triangle:\",tri)\n",
    "    \n",
    "\n",
    "triangle ()"
   ]
  },
  {
   "cell_type": "code",
   "execution_count": null,
   "id": "d0161ba3",
   "metadata": {},
   "outputs": [],
   "source": []
  },
  {
   "cell_type": "code",
   "execution_count": null,
   "id": "ef3fc90b",
   "metadata": {},
   "outputs": [],
   "source": []
  }
 ],
 "metadata": {
  "kernelspec": {
   "display_name": "Python 3 (ipykernel)",
   "language": "python",
   "name": "python3"
  },
  "language_info": {
   "codemirror_mode": {
    "name": "ipython",
    "version": 3
   },
   "file_extension": ".py",
   "mimetype": "text/x-python",
   "name": "python",
   "nbconvert_exporter": "python",
   "pygments_lexer": "ipython3",
   "version": "3.9.12"
  }
 },
 "nbformat": 4,
 "nbformat_minor": 5
}
